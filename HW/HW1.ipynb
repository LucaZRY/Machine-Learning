{
 "cells": [
  {
   "cell_type": "markdown",
   "id": "d3fc9ad3",
   "metadata": {},
   "source": [
    "# MANE 4962 HW 1\n",
    "    Lucas Zhou  \n",
    "    662005044"
   ]
  },
  {
   "cell_type": "markdown",
   "id": "a7cc9ce9",
   "metadata": {},
   "source": [
    "Problem 1:"
   ]
  },
  {
   "cell_type": "code",
   "execution_count": 1,
   "id": "f5018edf",
   "metadata": {},
   "outputs": [
    {
     "name": "stdout",
     "output_type": "stream",
     "text": [
      "features_x1= 5\n",
      "features_x2= 4\n"
     ]
    }
   ],
   "source": [
    "import numpy as np\n",
    "\n",
    "x1 = np.array([2, 3, 4, 8, 9])\n",
    "x2 = np.array([2, -3, -4, 89])\n",
    "\n",
    "features_x1 = len(x1)\n",
    "features_x2 = len(x2)\n",
    "\n",
    "print('features_x1=', features_x1)\n",
    "print('features_x2=', features_x2)"
   ]
  },
  {
   "cell_type": "code",
   "execution_count": 2,
   "id": "bf3b91ba",
   "metadata": {},
   "outputs": [
    {
     "name": "stdout",
     "output_type": "stream",
     "text": [
      "norm1_x1: 26.0\n",
      "norm2_x1: 13.19090595827292\n",
      "norm_inf_x1: 9.0\n",
      "norm1-x2: 98.0\n",
      "norm2-x2: 89.16277250063504\n",
      "norm_inf_x2: 89.0\n"
     ]
    }
   ],
   "source": [
    "norm1_x1 = np.linalg.norm(x1, 1)\n",
    "norm2_x1 = np.linalg.norm(x1, 2)\n",
    "norm_inf_x1 = np.linalg.norm(x1, np.inf)\n",
    "\n",
    "norm1_x2 = np.linalg.norm(x2, 1)\n",
    "norm2_x2 = np.linalg.norm(x2, 2)\n",
    "norm_inf_x2 = np.linalg.norm(x2, np.inf)\n",
    "\n",
    "print(\"norm1_x1:\",norm1_x1)\n",
    "print(\"norm2_x1:\", norm2_x1)\n",
    "print(\"norm_inf_x1:\", norm_inf_x1)\n",
    "print(\"norm1-x2:\",norm1_x2)\n",
    "print(\"norm2-x2:\",norm2_x2)\n",
    "print(\"norm_inf_x2:\", norm_inf_x2)"
   ]
  },
  {
   "cell_type": "markdown",
   "id": "d86e906e",
   "metadata": {},
   "source": [
    "Problem 2:"
   ]
  },
  {
   "cell_type": "markdown",
   "id": "0bbd2a8d",
   "metadata": {},
   "source": [
    "Assuming the input and output image are RGB, each has 3 channels."
   ]
  },
  {
   "cell_type": "code",
   "execution_count": 3,
   "id": "9a20ab2b",
   "metadata": {},
   "outputs": [],
   "source": [
    "feature_dimensions = (1024, 1024, 3)\n",
    "output_dimensions = (64, 64, 3)\n",
    "length_feature = np.prod(feature_dimensions)\n",
    "length_output = np.prod(output_dimensions)"
   ]
  },
  {
   "cell_type": "markdown",
   "id": "b46079a1",
   "metadata": {},
   "source": [
    "(a) The length of the feature vector"
   ]
  },
  {
   "cell_type": "code",
   "execution_count": 4,
   "id": "3a7c49e2",
   "metadata": {},
   "outputs": [
    {
     "data": {
      "text/plain": [
       "3145728"
      ]
     },
     "execution_count": 4,
     "metadata": {},
     "output_type": "execute_result"
    }
   ],
   "source": [
    "length_feature"
   ]
  },
  {
   "cell_type": "markdown",
   "id": "489d6ca1",
   "metadata": {},
   "source": [
    "(b) The length of the output vector"
   ]
  },
  {
   "cell_type": "code",
   "execution_count": 5,
   "id": "2e744466",
   "metadata": {},
   "outputs": [
    {
     "data": {
      "text/plain": [
       "12288"
      ]
     },
     "execution_count": 5,
     "metadata": {},
     "output_type": "execute_result"
    }
   ],
   "source": [
    "length_output"
   ]
  },
  {
   "cell_type": "markdown",
   "id": "c7a7780c",
   "metadata": {},
   "source": [
    "(c) Number of elements in matrix W"
   ]
  },
  {
   "cell_type": "code",
   "execution_count": 6,
   "id": "4986e2fc",
   "metadata": {},
   "outputs": [],
   "source": [
    "W = 3145728 * 12288"
   ]
  },
  {
   "cell_type": "code",
   "execution_count": 7,
   "id": "b27abe6b",
   "metadata": {},
   "outputs": [
    {
     "data": {
      "text/plain": [
       "38654705664"
      ]
     },
     "execution_count": 7,
     "metadata": {},
     "output_type": "execute_result"
    }
   ],
   "source": [
    "W"
   ]
  },
  {
   "cell_type": "markdown",
   "id": "a101af79",
   "metadata": {},
   "source": [
    "Number of elements in matrix b"
   ]
  },
  {
   "cell_type": "code",
   "execution_count": 8,
   "id": "abb6657d",
   "metadata": {},
   "outputs": [
    {
     "name": "stdout",
     "output_type": "stream",
     "text": [
      "elements of b: 12288\n"
     ]
    }
   ],
   "source": [
    "print('elements of b:', length_output)"
   ]
  },
  {
   "cell_type": "markdown",
   "id": "f4067faa",
   "metadata": {},
   "source": [
    "Problem 3:"
   ]
  },
  {
   "cell_type": "code",
   "execution_count": 9,
   "id": "9b5909f9",
   "metadata": {},
   "outputs": [],
   "source": [
    "matrix = np.array([[1, 2], [-1, 0]]) \n",
    "norm1 = np.linalg.norm(matrix, 1)\n",
    "norm2 = np.linalg.norm(matrix, 2)\n",
    "norm_inf = np.linalg.norm(matrix, np.inf)\n",
    "frobenius_norm = np.linalg.norm(matrix, 'fro')"
   ]
  },
  {
   "cell_type": "markdown",
   "id": "5ac2a1f6",
   "metadata": {},
   "source": [
    "1-norm of W"
   ]
  },
  {
   "cell_type": "code",
   "execution_count": 10,
   "id": "9081df19",
   "metadata": {},
   "outputs": [
    {
     "data": {
      "text/plain": [
       "2.0"
      ]
     },
     "execution_count": 10,
     "metadata": {},
     "output_type": "execute_result"
    }
   ],
   "source": [
    "norm1"
   ]
  },
  {
   "cell_type": "markdown",
   "id": "8a3e1382",
   "metadata": {},
   "source": [
    "2-norm of W"
   ]
  },
  {
   "cell_type": "code",
   "execution_count": 11,
   "id": "0aa7db30",
   "metadata": {},
   "outputs": [
    {
     "data": {
      "text/plain": [
       "2.2882456112707366"
      ]
     },
     "execution_count": 11,
     "metadata": {},
     "output_type": "execute_result"
    }
   ],
   "source": [
    "norm2"
   ]
  },
  {
   "cell_type": "markdown",
   "id": "97065fd1",
   "metadata": {},
   "source": [
    "infinite norm of W"
   ]
  },
  {
   "cell_type": "code",
   "execution_count": 12,
   "id": "dcf96f52",
   "metadata": {},
   "outputs": [
    {
     "data": {
      "text/plain": [
       "3.0"
      ]
     },
     "execution_count": 12,
     "metadata": {},
     "output_type": "execute_result"
    }
   ],
   "source": [
    "norm_inf"
   ]
  },
  {
   "cell_type": "markdown",
   "id": "41050f8b",
   "metadata": {},
   "source": [
    "Frobenius norm of W"
   ]
  },
  {
   "cell_type": "code",
   "execution_count": 13,
   "id": "c8ba0855",
   "metadata": {},
   "outputs": [
    {
     "data": {
      "text/plain": [
       "2.449489742783178"
      ]
     },
     "execution_count": 13,
     "metadata": {},
     "output_type": "execute_result"
    }
   ],
   "source": [
    "frobenius_norm"
   ]
  },
  {
   "cell_type": "markdown",
   "id": "d2a806ed",
   "metadata": {},
   "source": [
    "Problem 4:"
   ]
  },
  {
   "cell_type": "code",
   "execution_count": 14,
   "id": "48435528",
   "metadata": {},
   "outputs": [
    {
     "name": "stdout",
     "output_type": "stream",
     "text": [
      "accuracy score : 0.9333333333333333\n"
     ]
    }
   ],
   "source": [
    "from sklearn import datasets\n",
    "from sklearn.model_selection import train_test_split\n",
    "from sklearn import svm\n",
    "from sklearn.metrics import accuracy_score\n",
    "\n",
    "iris = datasets.load_iris()\n",
    "\n",
    "X = iris.data[:, :3] # only selecting first three features\n",
    "y = iris.target\n",
    "\n",
    "X_train, X_test, y_train, y_test=train_test_split(\n",
    "    X,y,\n",
    "    test_size=0.40,\n",
    "    train_size=0.60,\n",
    "    random_state=123,\n",
    "    shuffle=True,\n",
    "    stratify=y)\n",
    "\n",
    "clf = svm.SVC()\n",
    "clf.fit(X_train, y_train)\n",
    "\n",
    "preds = clf.predict(X_test)\n",
    "\n",
    "acc = accuracy_score(y_test,clf.predict(X_test) )\n",
    "print('accuracy score :', acc)"
   ]
  },
  {
   "cell_type": "markdown",
   "id": "f182d43a",
   "metadata": {},
   "source": [
    "Problem 5:"
   ]
  },
  {
   "cell_type": "code",
   "execution_count": 15,
   "id": "9a5be997",
   "metadata": {},
   "outputs": [
    {
     "name": "stdout",
     "output_type": "stream",
     "text": [
      "Model: \"sequential\"\n",
      "_________________________________________________________________\n",
      " Layer (type)                Output Shape              Param #   \n",
      "=================================================================\n",
      " dense (Dense)               (None, 6)                 12        \n",
      "                                                                 \n",
      " dense_1 (Dense)             (None, 6)                 42        \n",
      "                                                                 \n",
      " dense_2 (Dense)             (None, 6)                 42        \n",
      "                                                                 \n",
      " dense_3 (Dense)             (None, 1)                 7         \n",
      "                                                                 \n",
      "=================================================================\n",
      "Total params: 103\n",
      "Trainable params: 103\n",
      "Non-trainable params: 0\n",
      "_________________________________________________________________\n",
      "1/1 [==============================] - 0s 85ms/step\n",
      "[1.0] => 1.04 (expected 1.00)\n",
      "[5.0] => 1.24 (expected 1.26)\n",
      "[10.0] => 1.46 (expected 1.39)\n",
      "[15.0] => 1.49 (expected 1.47)\n",
      "[20.0] => 1.52 (expected 1.53)\n",
      "[40.0] => 1.64 (expected 1.69)\n",
      "[50.0] => 1.70 (expected 1.75)\n",
      "[65.0] => 1.78 (expected 1.82)\n",
      "[80.0] => 1.87 (expected 1.87)\n",
      "[100.0] => 1.99 (expected 1.93)\n"
     ]
    }
   ],
   "source": [
    "import tensorflow as tf\n",
    "from numpy import loadtxt\n",
    "from keras.models import Sequential\n",
    "from keras.layers import Dense\n",
    "from keras import optimizers\n",
    "from tensorflow.python.keras.optimizers import *\n",
    "\n",
    "#Load dataset\n",
    "#split into input (X) and output (y)\n",
    "X = np.array([[1], [5], [10], [15], [20], [40], [50], [65], [80], [100]])\n",
    "X = X*1.0\n",
    "y = np.array([[1**(1/7)], [5**(1/7)], [10**(1/7)], [15**(1/7)], [20**(1/7)], [40**(1/7)], [50**(1/7)], [65**(1/7)], [80**(1/7)], [100**(1/7)]])\n",
    "\n",
    "y = y*1.0\n",
    "\n",
    "#define keras model\n",
    "model = Sequential()\n",
    "\n",
    "model.add(Dense(6,input_dim=1,activation='relu'))\n",
    "model.add(Dense(6,activation='relu'))\n",
    "model.add(Dense(6,activation='relu'))\n",
    "model.add(Dense(1))\n",
    "\n",
    "#compile the keras model\n",
    "opt = optimizers.Adam(learning_rate=0.001)\n",
    "mse = tf.keras.losses.MeanSquaredError(\n",
    "    reduction=tf.keras.losses.Reduction.SUM)\n",
    "model.compile(loss=mse, optimizer=opt)\n",
    "\n",
    "\n",
    "\n",
    "#fit the keras model on the dataset (CPU)\n",
    "model.fit(X,y,epochs=2000,batch_size=10, verbose=0)\n",
    "model.summary()\n",
    "\n",
    "#make class predictions with the model\n",
    "predictions = model.predict(X)\n",
    "\n",
    "#summarize the first 10 cases\n",
    "for i in range(10):\n",
    "    print('%s => %.2f (expected %.2f)' % (X[i].tolist(), predictions[i][0], y[i][0]))\n"
   ]
  },
  {
   "cell_type": "code",
   "execution_count": 16,
   "id": "a1c83e86-b34d-436c-9a47-796182c524f6",
   "metadata": {},
   "outputs": [
    {
     "name": "stdout",
     "output_type": "stream",
     "text": [
      "4/4 [==============================] - 0s 2ms/step\n"
     ]
    },
    {
     "data": {
      "text/plain": [
       "<matplotlib.legend.Legend at 0x1f856aa9480>"
      ]
     },
     "execution_count": 16,
     "metadata": {},
     "output_type": "execute_result"
    },
    {
     "data": {
      "image/png": "[encoded data removed]",
      "text/plain": [
       "<Figure size 640x480 with 1 Axes>"
      ]
     },
     "metadata": {},
     "output_type": "display_data"
    }
   ],
   "source": [
    "import matplotlib.pyplot as plt\n",
    "number_grid = np.linspace(1, 100, 100)\n",
    "plt.scatter(X,y, label='data')\n",
    "plt.plot(number_grid,model.predict(np.expand_dims(number_grid,axis=1)) , color='red', label='model')\n",
    "plt.xlabel('number')\n",
    "plt.ylabel('square root')\n",
    "plt.legend()"
   ]
  },
  {
   "cell_type": "markdown",
   "id": "e0a6ee3f",
   "metadata": {},
   "source": [
    "Problem 6:"
   ]
  },
  {
   "cell_type": "code",
   "execution_count": 17,
   "id": "8cb41f32-7904-4c72-932a-9dccae671922",
   "metadata": {},
   "outputs": [],
   "source": [
    "from sklearn import datasets\n",
    "from sklearn.model_selection import train_test_split\n",
    "from sklearn import svm\n",
    "from sklearn.metrics import accuracy_score\n",
    "\n",
    "iris = datasets.load_iris()\n",
    "\n",
    "X = iris.data[:, :1] #only sepal length \n",
    "y = iris.data[:,2:3] #only petal length\n",
    "\n",
    "X_train, X_test, y_train, y_test=train_test_split(\n",
    "    X,y,\n",
    "    test_size=0.40,\n",
    "    train_size=0.60,\n",
    "    random_state=123,\n",
    "    shuffle=True)"
   ]
  },
  {
   "cell_type": "code",
   "execution_count": 18,
   "id": "4987c8ad-b062-41cf-8b05-bd4f23d75299",
   "metadata": {},
   "outputs": [
    {
     "name": "stdout",
     "output_type": "stream",
     "text": [
      "tarining\n",
      "Model: \"sequential_1\"\n",
      "_________________________________________________________________\n",
      " Layer (type)                Output Shape              Param #   \n",
      "=================================================================\n",
      " dense_4 (Dense)             (None, 40)                80        \n",
      "                                                                 \n",
      " dense_5 (Dense)             (None, 40)                1640      \n",
      "                                                                 \n",
      " dense_6 (Dense)             (None, 40)                1640      \n",
      "                                                                 \n",
      " dense_7 (Dense)             (None, 1)                 41        \n",
      "                                                                 \n",
      "=================================================================\n",
      "Total params: 3,401\n",
      "Trainable params: 3,401\n",
      "Non-trainable params: 0\n",
      "_________________________________________________________________\n",
      "2/2 [==============================] - 0s 4ms/step\n",
      "predictions\n",
      "[6.3] => 4.80 (expected 4.90)\n",
      "[6.8] => 5.34 (expected 5.50)\n",
      "[6.4] => 4.91 (expected 5.60)\n",
      "[5.6] => 3.40 (expected 4.10)\n",
      "[4.9] => 1.59 (expected 1.40)\n",
      "[6.0] => 4.25 (expected 4.80)\n",
      "[6.3] => 4.80 (expected 4.40)\n",
      "[4.4] => 1.16 (expected 1.30)\n",
      "[4.4] => 1.16 (expected 1.40)\n",
      "[5.5] => 2.89 (expected 4.40)\n",
      "[6.9] => 5.44 (expected 5.10)\n",
      "[5.5] => 2.89 (expected 1.40)\n",
      "[5.2] => 1.84 (expected 3.90)\n",
      "[6.5] => 5.02 (expected 5.50)\n",
      "[7.7] => 6.37 (expected 6.10)\n",
      "[6.5] => 5.02 (expected 5.80)\n",
      "[5.5] => 2.89 (expected 1.30)\n",
      "[4.3] => 1.07 (expected 1.10)\n",
      "[6.1] => 4.46 (expected 4.70)\n",
      "[4.8] => 1.50 (expected 1.40)\n",
      "[5.2] => 1.84 (expected 1.40)\n",
      "[6.3] => 4.80 (expected 5.10)\n",
      "[4.8] => 1.50 (expected 1.90)\n",
      "[6.1] => 4.46 (expected 4.90)\n",
      "[5.1] => 1.76 (expected 1.60)\n",
      "[5.4] => 2.34 (expected 1.70)\n",
      "[5.4] => 2.34 (expected 1.50)\n",
      "[5.6] => 3.40 (expected 4.90)\n",
      "[7.7] => 6.37 (expected 6.70)\n",
      "[5.0] => 1.67 (expected 1.40)\n",
      "[7.4] => 6.02 (expected 6.10)\n",
      "[6.0] => 4.25 (expected 5.00)\n",
      "[4.7] => 1.41 (expected 1.60)\n",
      "[5.1] => 1.76 (expected 1.40)\n",
      "[6.0] => 4.25 (expected 4.00)\n",
      "[5.0] => 1.67 (expected 3.30)\n",
      "[7.9] => 6.61 (expected 6.40)\n",
      "[5.4] => 2.34 (expected 1.70)\n",
      "[5.4] => 2.34 (expected 1.30)\n",
      "[5.8] => 3.82 (expected 3.90)\n",
      "[5.0] => 1.67 (expected 3.50)\n",
      "[5.0] => 1.67 (expected 1.20)\n",
      "[6.8] => 5.34 (expected 5.90)\n",
      "[6.7] => 5.23 (expected 5.20)\n",
      "[5.8] => 3.82 (expected 5.10)\n",
      "[5.8] => 3.82 (expected 5.10)\n",
      "[6.3] => 4.80 (expected 5.60)\n",
      "[5.5] => 2.89 (expected 4.00)\n",
      "[5.1] => 1.76 (expected 1.50)\n",
      "[4.4] => 1.16 (expected 1.30)\n",
      "[6.5] => 5.02 (expected 5.10)\n",
      "[5.1] => 1.76 (expected 1.70)\n",
      "[4.9] => 1.59 (expected 1.50)\n",
      "[6.7] => 5.23 (expected 4.70)\n",
      "[6.1] => 4.46 (expected 4.60)\n",
      "[5.5] => 2.89 (expected 4.00)\n",
      "[5.7] => 3.61 (expected 3.50)\n",
      "[5.8] => 3.82 (expected 5.10)\n",
      "[6.7] => 5.23 (expected 4.40)\n",
      "[6.4] => 4.91 (expected 5.30)\n"
     ]
    }
   ],
   "source": [
    "#define keras model\n",
    "model = Sequential()\n",
    "\n",
    "model.add(Dense(40,input_dim=1,activation='relu'))\n",
    "model.add(Dense(40,activation='relu'))\n",
    "model.add(Dense(40,activation='relu'))\n",
    "model.add(Dense(1))\n",
    "\n",
    "#compile the keras model\n",
    "opt = optimizers.Adam(learning_rate=0.001)\n",
    "mse = tf.keras.losses.MeanSquaredError(\n",
    "    reduction=tf.keras.losses.Reduction.SUM)\n",
    "model.compile(loss=mse, optimizer=opt)\n",
    "print('tarining')\n",
    "#fit the keras model on the dataset (CPU)\n",
    "model.fit(X_train,y_train,epochs=2000,batch_size=10, verbose=0)\n",
    "model.summary()\n",
    "\n",
    "#make class predictions with the model\n",
    "predictions = model.predict(X_test)\n",
    "\n",
    "print('predictions')\n",
    "for i in range(len(y_test)):\n",
    "    print('%s => %.2f (expected %.2f)' % (X_test[i].tolist(), predictions[i][0], y_test[i][0]))"
   ]
  },
  {
   "cell_type": "code",
   "execution_count": 19,
   "id": "c1ab0a57-240e-48ac-9048-4799552929ac",
   "metadata": {},
   "outputs": [
    {
     "name": "stdout",
     "output_type": "stream",
     "text": [
      "1/1 [==============================] - 0s 18ms/step\n"
     ]
    },
    {
     "data": {
      "text/plain": [
       "<matplotlib.legend.Legend at 0x1f854c756f0>"
      ]
     },
     "execution_count": 19,
     "metadata": {},
     "output_type": "execute_result"
    },
    {
     "data": {
      "image/png": "[encoded data removed]",
      "text/plain": [
       "<Figure size 640x480 with 1 Axes>"
      ]
     },
     "metadata": {},
     "output_type": "display_data"
    }
   ],
   "source": [
    "import matplotlib.pyplot as plt\n",
    "number_grid = np.linspace(4, 8, 30)\n",
    "plt.scatter(X_test,y_test, label='test data')\n",
    "plt.plot(number_grid,model.predict(np.expand_dims(number_grid,axis=1)) , color='red', label='model')\n",
    "plt.xlabel('sepal length')\n",
    "plt.ylabel('petal length')\n",
    "plt.legend()"
   ]
  }
 ],
 "metadata": {
  "kernelspec": {
   "display_name": "Python 3 (ipykernel)",
   "language": "python",
   "name": "python3"
  },
  "language_info": {
   "codemirror_mode": {
    "name": "ipython",
    "version": 3
   },
   "file_extension": ".py",
   "mimetype": "text/x-python",
   "name": "python",
   "nbconvert_exporter": "python",
   "pygments_lexer": "ipython3",
   "version": "3.10.13"
  }
 },
 "nbformat": 4,
 "nbformat_minor": 5
}
